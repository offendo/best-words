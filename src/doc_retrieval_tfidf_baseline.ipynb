{
  "nbformat": 4,
  "nbformat_minor": 0,
  "metadata": {
    "colab": {
      "name": "doc_retrieval_tfidf_baseline.ipynb",
      "provenance": []
    },
    "kernelspec": {
      "name": "python3",
      "display_name": "Python 3"
    }
  },
  "cells": [
    {
      "cell_type": "code",
      "metadata": {
        "id": "HqOA8gD9_JcS"
      },
      "source": [
        "!wget https://github.com/facebookresearch/DrQA/archive/master.zip\n",
        "!unzip master.zip"
      ],
      "execution_count": null,
      "outputs": []
    },
    {
      "cell_type": "code",
      "metadata": {
        "id": "2u9ZXwUR_dSu"
      },
      "source": [
        "!wget https://s3-eu-west-1.amazonaws.com/fever.public/train.jsonl"
      ],
      "execution_count": null,
      "outputs": []
    },
    {
      "cell_type": "code",
      "metadata": {
        "id": "bSoDfSgd_pHa"
      },
      "source": [
        "!mv DrQA-master/* ."
      ],
      "execution_count": 6,
      "outputs": []
    },
    {
      "cell_type": "code",
      "metadata": {
        "id": "kDhlzct1BvZy"
      },
      "source": [
        "!python3 setup.py develop\n",
        "!pip install -r requirements.txt"
      ],
      "execution_count": null,
      "outputs": []
    },
    {
      "cell_type": "code",
      "metadata": {
        "id": "E6Te6nNAB5VD"
      },
      "source": [
        "from drqa import retriever"
      ],
      "execution_count": 3,
      "outputs": []
    },
    {
      "cell_type": "code",
      "metadata": {
        "id": "RRCaXsaN_sxb"
      },
      "source": [
        "!wget https://github.com/offendo/best-words/raw/master/project_data/wiki_docs_skimmed-tfidf-ngram%3D2-hash%3D16777216-tokenizer%3Dsimple.npz.zip\n",
        "!wget https://github.com/offendo/best-words/raw/master/project_data/wiki_docs_skimmed.db.zip\n",
        "\n",
        "!unzip wiki_docs_skimmed-tfidf-ngram=2-hash=16777216-tokenizer=simple.npz.zip\n",
        "!unzip wiki_docs_skimmed.db.zip"
      ],
      "execution_count": null,
      "outputs": []
    },
    {
      "cell_type": "code",
      "metadata": {
        "id": "UU4idPkKAHap"
      },
      "source": [
        "import json\n",
        "import itertools\n",
        "with open('train.jsonl', 'r') as fp:\n",
        "    claims = []\n",
        "    for jsonl in fp.readlines():\n",
        "        jsoned = json.loads(jsonl)\n",
        "        evidence_set = set()\n",
        "        for evidence in itertools.chain(*jsoned['evidence']):\n",
        "            if evidence[2] is not None:\n",
        "                evidence_set.add(evidence[2])\n",
        "        claims.append((jsoned['claim'], evidence_set))"
      ],
      "execution_count": 8,
      "outputs": []
    },
    {
      "cell_type": "code",
      "metadata": {
        "id": "wWeNO2B8Erad"
      },
      "source": [
        "model_path = 'wiki_docs_skimmed-tfidf-ngram=2-hash=16777216-tokenizer=simple.npz'\n",
        "ranker = retriever.get_class('tfidf')(tfidf_path=model_path)"
      ],
      "execution_count": 13,
      "outputs": []
    },
    {
      "cell_type": "code",
      "metadata": {
        "id": "sdZ70vFhFRs0"
      },
      "source": [
        "predicted = []\n",
        "for claim, _ in claims:\n",
        "    closest_docs = set(ranker.closest_docs(claim, k=5)[0])\n",
        "    predicted.append((claim, closest_docs))"
      ],
      "execution_count": 19,
      "outputs": []
    },
    {
      "cell_type": "code",
      "metadata": {
        "colab": {
          "base_uri": "https://localhost:8080/"
        },
        "id": "eG03_gDbJSs9",
        "outputId": "c514e7b1-4351-4f17-eee8-05c0b4493a4f"
      },
      "source": [
        "tp = 0\n",
        "p = 0\n",
        "for (_, gold), (_, pred) in zip(claims, predicted):\n",
        "    p += len(gold)\n",
        "    tp += len(gold & pred)\n",
        "\n",
        "print('Total Recall of tf-idf: {}%'.format(round(100 * (tp/p), 2)))"
      ],
      "execution_count": 33,
      "outputs": [
        {
          "output_type": "stream",
          "text": [
            "Total Recall of tf-idf: 77.1%\n"
          ],
          "name": "stdout"
        }
      ]
    },
    {
      "cell_type": "code",
      "metadata": {
        "id": "ejdP9oW1KsZF"
      },
      "source": [
        ""
      ],
      "execution_count": null,
      "outputs": []
    }
  ]
}