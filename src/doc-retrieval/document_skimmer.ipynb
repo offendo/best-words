{
  "nbformat": 4,
  "nbformat_minor": 0,
  "metadata": {
    "colab": {
      "name": "document_skimmer.ipynb",
      "provenance": []
    },
    "kernelspec": {
      "name": "python3",
      "display_name": "Python 3"
    }
  },
  "cells": [
    {
      "cell_type": "code",
      "metadata": {
        "id": "1RkHHJlwwwQl"
      },
      "source": [
        "!wget https://s3-eu-west-1.amazonaws.com/fever.public/wiki-pages.zip\n",
        "!wget https://github.com/facebookresearch/DrQA/archive/master.zip\n",
        "!wget https://s3-eu-west-1.amazonaws.com/fever.public/train.jsonl"
      ],
      "execution_count": null,
      "outputs": []
    },
    {
      "cell_type": "code",
      "metadata": {
        "id": "JuiHGnxvw3sF"
      },
      "source": [
        "!unzip wiki-pages.zip\n",
        "!unzip master.zip"
      ],
      "execution_count": null,
      "outputs": []
    },
    {
      "cell_type": "code",
      "metadata": {
        "id": "2CJI-STUxIKF"
      },
      "source": [
        "# setup drqa env\n",
        "!cd DrQA && python3 setup.py develop\n",
        "!pip install -r DrQA-master/requirements.txt\n",
        "\n",
        "# build wiki_docs sqlite db\n",
        "!cd DrQA/ && python3 scripts/retriever/build_db.py ../wiki-pages ../wiki_docs.db"
      ],
      "execution_count": null,
      "outputs": []
    },
    {
      "cell_type": "code",
      "metadata": {
        "id": "b1QiB2pb6H4c"
      },
      "source": [
        "import json\n",
        "import itertools\n",
        "import sqlite3"
      ],
      "execution_count": null,
      "outputs": []
    },
    {
      "cell_type": "code",
      "metadata": {
        "id": "jcp5ewzwe3tp"
      },
      "source": [
        "# get all sqlite documents in the train pieces\n",
        "all_articles = set()\n",
        "with open('train.jsonl', 'r') as fp:\n",
        "    claims = []\n",
        "    for jsonl in fp.readlines():\n",
        "        jsoned = json.loads(jsonl)\n",
        "        for evidence in itertools.chain(*jsoned['evidence']):\n",
        "            if evidence[2] is not None:\n",
        "                all_articles.add(evidence[2])\n",
        "        claims.append(jsoned)\n",
        "\n",
        "print(len(claims))\n",
        "print(len(all_articles))"
      ],
      "execution_count": null,
      "outputs": []
    },
    {
      "cell_type": "code",
      "metadata": {
        "id": "csdP5Y0Pmq7i"
      },
      "source": [
        "# join article ids to get selected from db\n",
        "articles_joined = ', '.join(map(lambda art: \"'{}'\".format(art.replace(\"'\", \"''\")), all_articles))\n",
        "sql_articles = 'select * from documents where id in ({})'.format(articles_joined)"
      ],
      "execution_count": 69,
      "outputs": []
    },
    {
      "cell_type": "code",
      "metadata": {
        "id": "WeIMS8h9ksI1"
      },
      "source": [
        "# get all articles\n",
        "conn = sqlite3.connect('wiki_docs.db')\n",
        "with sqlite3.connect('wiki_docs.db') as conn:\n",
        "    cur = conn.cursor()\n",
        "    cur.execute(sql_articles)\n",
        "    article_rows = cur.fetchall()\n"
      ],
      "execution_count": null,
      "outputs": []
    },
    {
      "cell_type": "code",
      "metadata": {
        "id": "Y04ccKFIwedL"
      },
      "source": [
        "#create skimmed documents database and insert train data documents\n",
        "def db_create_table(db_filepath):\n",
        "    create_table = '''\n",
        "        create table if not exists documents (\n",
        "            id text primary key,\n",
        "            text text not null\n",
        "        )\n",
        "    '''\n",
        "    with sqlite3.connect(db_filepath) as conn:\n",
        "        cur = conn.cursor()\n",
        "        cur.execute(create_table)\n",
        "\n",
        "def db_insert_rows(db_filepath, rows):\n",
        "    insert = '''\n",
        "        insert or ignore into documents\n",
        "        values {};\n",
        "    '''\n",
        "    tupl_str_art = list(map(lambda art: \"('{}', '{}')\".format(art[0].replace(\"'\", \"''\"), art[1].replace(\"'\", \"''\")), rows))\n",
        "\n",
        "    insert_values = insert.format(', '.join(tupl_str_art))\n",
        "\n",
        "    with sqlite3.connect(db_filepath) as conn:\n",
        "        cur = conn.cursor()\n",
        "        cur.execute(insert_values)\n",
        "        cur.execute('select count(1) from documents')\n",
        "        count = cur.fetchone()\n",
        "    return count\n",
        "\n",
        "db_create_table('wiki_docs_skimmed.db')\n",
        "db_insert_rows('wiki_docs_skimmed.db', article_rows)"
      ],
      "execution_count": null,
      "outputs": []
    },
    {
      "cell_type": "code",
      "metadata": {
        "id": "7du79zmD1AfE"
      },
      "source": [
        "# add extra documents from articles\n",
        "# CANNOT SEED will be random every time\n",
        "extra_docs = 9 * len(all_articles)\n",
        "with sqlite3.connect('wiki_docs.db') as conn:\n",
        "  cur = conn.cursor()\n",
        "  cur.execute('SELECT * FROM documents ORDER BY RANDOM() LIMIT {};'.format(extra_docs))\n",
        "  unknown_arts = cur.fetchall()\n",
        "\n",
        "db_insert_rows('wiki_docs_skimmed.db', unknown_arts)\n"
      ],
      "execution_count": null,
      "outputs": []
    },
    {
      "cell_type": "code",
      "metadata": {
        "id": "l9yjAiDfRAHR"
      },
      "source": [
        "# build tfidf for new skimmed document set\n",
        "!cd DrQA/ && python3 scripts/retriever/build_tfidf.py ../wiki_docs_skimmed.db ../"
      ],
      "execution_count": null,
      "outputs": []
    }
  ]
}